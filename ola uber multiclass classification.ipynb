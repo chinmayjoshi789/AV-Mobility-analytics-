{
 "cells": [
  {
   "cell_type": "code",
   "execution_count": 1,
   "metadata": {},
   "outputs": [],
   "source": [
    "import numpy as np\n",
    "import pandas as pd\n",
    "import seaborn as sns\n",
    "import matplotlib.pyplot as plt\n",
    "import scipy.stats as st\n",
    "from sklearn.model_selection import train_test_split,KFold,StratifiedKFold,GridSearchCV,RandomizedSearchCV,cross_val_score\n",
    "from sklearn.ensemble import RandomForestClassifier,BaggingClassifier,AdaBoostClassifier,GradientBoostingClassifier,RandomForestRegressor,BaggingRegressor,AdaBoostRegressor,GradientBoostingRegressor\n",
    "from sklearn.linear_model import LinearRegression,LogisticRegression,Lasso, Ridge\n",
    "from sklearn.tree import DecisionTreeClassifier,DecisionTreeRegressor\n",
    "from sklearn.naive_bayes import GaussianNB\n",
    "from sklearn.neighbors import KNeighborsClassifier,KNeighborsRegressor\n",
    "import sklearn.metrics as metrics\n",
    "from sklearn.metrics import r2_score,roc_auc_score,classification_report,mean_squared_error,accuracy_score,confusion_matrix\n",
    "import warnings\n",
    "warnings.filterwarnings('ignore')"
   ]
  },
  {
   "cell_type": "code",
   "execution_count": 2,
   "metadata": {},
   "outputs": [],
   "source": [
    "df=pd.read_csv('D:/datasets+minipro/analytics vidhya datasets/janatahack p4 ola uber/train.csv')"
   ]
  },
  {
   "cell_type": "code",
   "execution_count": 3,
   "metadata": {},
   "outputs": [],
   "source": [
    "df1=df.copy()"
   ]
  },
  {
   "cell_type": "code",
   "execution_count": 4,
   "metadata": {},
   "outputs": [
    {
     "data": {
      "text/plain": [
       "Trip_ID                            0\n",
       "Trip_Distance                      0\n",
       "Type_of_Cab                    20210\n",
       "Customer_Since_Months           5920\n",
       "Life_Style_Index               20193\n",
       "Confidence_Life_Style_Index    20193\n",
       "Destination_Type                   0\n",
       "Customer_Rating                    0\n",
       "Cancellation_Last_1Month           0\n",
       "Var1                           71030\n",
       "Var2                               0\n",
       "Var3                               0\n",
       "Gender                             0\n",
       "Surge_Pricing_Type                 0\n",
       "dtype: int64"
      ]
     },
     "execution_count": 4,
     "metadata": {},
     "output_type": "execute_result"
    }
   ],
   "source": [
    "df1.isnull().sum()"
   ]
  },
  {
   "cell_type": "markdown",
   "metadata": {},
   "source": [
    "#### Simply imputing categorical by mode & numerical by mean"
   ]
  },
  {
   "cell_type": "code",
   "execution_count": 5,
   "metadata": {},
   "outputs": [],
   "source": [
    "from sklearn.impute import SimpleImputer\n",
    "si=SimpleImputer(missing_values=np.nan, strategy='median')\n",
    "sicate=SimpleImputer(missing_values=np.nan, strategy='most_frequent')\n",
    "    if df1[i].isnull().sum()>0:\n",
    "        df1[i]=sicate.fit_transform(np.array(df1[i]).reshape(-1,1))\n",
    "for i in df1.select_dtypes(exclude='object'):\n",
    "    if df1[i].isnull().sum()>0:\n",
    "        df1[i]=si.fit_transform(np.array(df1[i]).reshape(-1,1))"
   ]
  },
  {
   "cell_type": "code",
   "execution_count": 6,
   "metadata": {},
   "outputs": [],
   "source": [
    "df1.drop('Trip_ID',1,inplace=True)"
   ]
  },
  {
   "cell_type": "code",
   "execution_count": 7,
   "metadata": {},
   "outputs": [
    {
     "name": "stdout",
     "output_type": "stream",
     "text": [
      "<class 'pandas.core.frame.DataFrame'>\n",
      "RangeIndex: 131662 entries, 0 to 131661\n",
      "Data columns (total 13 columns):\n",
      " #   Column                       Non-Null Count   Dtype  \n",
      "---  ------                       --------------   -----  \n",
      " 0   Trip_Distance                131662 non-null  float64\n",
      " 1   Type_of_Cab                  131662 non-null  object \n",
      " 2   Customer_Since_Months        131662 non-null  float64\n",
      " 3   Life_Style_Index             131662 non-null  float64\n",
      " 4   Confidence_Life_Style_Index  131662 non-null  object \n",
      " 5   Destination_Type             131662 non-null  object \n",
      " 6   Customer_Rating              131662 non-null  float64\n",
      " 7   Cancellation_Last_1Month     131662 non-null  int64  \n",
      " 8   Var1                         131662 non-null  float64\n",
      " 9   Var2                         131662 non-null  int64  \n",
      " 10  Var3                         131662 non-null  int64  \n",
      " 11  Gender                       131662 non-null  object \n",
      " 12  Surge_Pricing_Type           131662 non-null  int64  \n",
      "dtypes: float64(5), int64(4), object(4)\n",
      "memory usage: 13.1+ MB\n"
     ]
    }
   ],
   "source": [
    "df1.info()"
   ]
  },
  {
   "cell_type": "markdown",
   "metadata": {},
   "source": [
    "Type_of_Cab-object\n",
    "Confidence_Life_Style_Index-object\n",
    "Destination_Type-object\n",
    "Gender-object"
   ]
  },
  {
   "cell_type": "markdown",
   "metadata": {},
   "source": [
    "#### Automatic Label encoding[All categorical label encoded]:"
   ]
  },
  {
   "cell_type": "code",
   "execution_count": 8,
   "metadata": {},
   "outputs": [],
   "source": [
    "from sklearn.preprocessing import LabelEncoder\n",
    "le=LabelEncoder()\n",
    "for i in df1.select_dtypes(include='object'):\n",
    "    df1[i]=le.fit_transform(df1[i])"
   ]
  },
  {
   "cell_type": "code",
   "execution_count": 9,
   "metadata": {},
   "outputs": [],
   "source": [
    "X=df1.drop('Surge_Pricing_Type',1)\n",
    "y=df1['Surge_Pricing_Type']"
   ]
  },
  {
   "cell_type": "code",
   "execution_count": 10,
   "metadata": {},
   "outputs": [
    {
     "name": "stdout",
     "output_type": "stream",
     "text": [
      "{'min_samples_leaf': 12, 'max_depth': 8, 'criterion': 'gini'}\n"
     ]
    },
    {
     "data": {
      "text/plain": [
       "DecisionTreeClassifier(ccp_alpha=0.0, class_weight=None, criterion='gini',\n",
       "                       max_depth=8, max_features=None, max_leaf_nodes=None,\n",
       "                       min_impurity_decrease=0.0, min_impurity_split=None,\n",
       "                       min_samples_leaf=12, min_samples_split=2,\n",
       "                       min_weight_fraction_leaf=0.0, presort='deprecated',\n",
       "                       random_state=None, splitter='best')"
      ]
     },
     "execution_count": 10,
     "metadata": {},
     "output_type": "execute_result"
    }
   ],
   "source": [
    "X=df1.drop('Surge_Pricing_Type',1)\n",
    "y=df1['Surge_Pricing_Type']\n",
    "X_train, X_test, y_train, y_test = train_test_split(X,y, test_size = 0.2, random_state =0)\n",
    "from sklearn.model_selection import GridSearchCV,RandomizedSearchCV\n",
    "dt = DecisionTreeClassifier()\n",
    "dt_params = {'max_depth':np.arange(1,10), 'min_samples_leaf':np.arange(2,30), 'criterion':['entropy','gini']}\n",
    "rscv = RandomizedSearchCV(dt, dt_params, cv=5)\n",
    "rscv.fit(X, y)\n",
    "print(rscv.best_params_)\n",
    "rscv_best_DT=rscv.best_params_\n",
    "DT=DecisionTreeClassifier(**rscv_best_DT)\n",
    "DT.fit(X_train,y_train)\n",
    "\n",
    "# After removing scoring='roc_auc',I got the results of gscv/rscv\n",
    "# {'min_samples_leaf': 16, 'max_depth': 9, 'criterion': 'gini'}\n",
    "\n",
    "# DecisionTreeClassifier(ccp_alpha=0.0, class_weight=None, criterion='gini',\n",
    "#                        max_depth=9, max_features=None, max_leaf_nodes=None,\n",
    "#                        min_impurity_decrease=0.0, min_impurity_split=None,\n",
    "#                        min_samples_leaf=16, min_samples_split=2,\n",
    "#                        min_weight_fraction_leaf=0.0, presort='deprecated',\n",
    "#                        random_state=None, splitter='best')"
   ]
  },
  {
   "cell_type": "code",
   "execution_count": 11,
   "metadata": {},
   "outputs": [],
   "source": [
    "y_pred=DT.predict(X_test)"
   ]
  },
  {
   "cell_type": "code",
   "execution_count": 12,
   "metadata": {},
   "outputs": [
    {
     "data": {
      "text/plain": [
       "0.678084532715604"
      ]
     },
     "execution_count": 12,
     "metadata": {},
     "output_type": "execute_result"
    }
   ],
   "source": [
    "accuracy_score(y_test,y_pred)"
   ]
  },
  {
   "cell_type": "markdown",
   "metadata": {},
   "source": [
    "#### Test data manipulations:"
   ]
  },
  {
   "cell_type": "code",
   "execution_count": 13,
   "metadata": {},
   "outputs": [],
   "source": [
    "dfte=pd.read_csv('D:/datasets+minipro/analytics vidhya datasets/janatahack p4 ola uber/test.csv')\n",
    "\n",
    "df2=dfte.copy()\n",
    "\n",
    "from sklearn.impute import SimpleImputer\n",
    "si=SimpleImputer(missing_values=np.nan, strategy='median')\n",
    "sicate=SimpleImputer(missing_values=np.nan, strategy='most_frequent')\n",
    "for i in df2.select_dtypes(include='object'):\n",
    "    if df2[i].isnull().sum()>0:\n",
    "        df2[i]=sicate.fit_transform(np.array(df2[i]).reshape(-1,1))\n",
    "for i in df2.select_dtypes(exclude='object'):\n",
    "    if df2[i].isnull().sum()>0:\n",
    "        df2[i]=si.fit_transform(np.array(df2[i]).reshape(-1,1))\n",
    "df2.drop('Trip_ID',1,inplace=True)\n",
    "from sklearn.preprocessing import LabelEncoder\n",
    "le=LabelEncoder()\n",
    "for i in df2.select_dtypes(include='object'):\n",
    "    df2[i]=le.fit_transform(df2[i])"
   ]
  },
  {
   "cell_type": "markdown",
   "metadata": {},
   "source": [
    "##### Using Logistic Regression:[For all label encoded]"
   ]
  },
  {
   "cell_type": "code",
   "execution_count": 14,
   "metadata": {},
   "outputs": [],
   "source": [
    "lr=LogisticRegression()\n",
    "lr.fit(X,y)\n",
    "y_test_pred_lr=lr.predict(df2)\n",
    "finalpred=pd.concat([dfte['Trip_ID'],pd.DataFrame(y_test_pred_lr,columns=['Surge_Pricing_Type'])],1)\n",
    "finalpred.to_csv(\"D:/datasets+minipro/analytics vidhya datasets/janatahack p4 ola uber/lrpred.csv\",index=False)\n",
    "# This is the worst performing model with accuracy .63,we will move to other models."
   ]
  },
  {
   "cell_type": "markdown",
   "metadata": {},
   "source": [
    "##### Using Decision Tree:[For all label encoded]"
   ]
  },
  {
   "cell_type": "code",
   "execution_count": 185,
   "metadata": {},
   "outputs": [],
   "source": [
    "X=df1.drop('Surge_Pricing_Type',1)\n",
    "y=df1['Surge_Pricing_Type']\n",
    "X_train, X_test, y_train, y_test = train_test_split(X,y, test_size = 0.2, random_state =0)"
   ]
  },
  {
   "cell_type": "code",
   "execution_count": 16,
   "metadata": {},
   "outputs": [],
   "source": [
    "from sklearn.model_selection import GridSearchCV,RandomizedSearchCV\n",
    "dt = DecisionTreeClassifier()\n",
    "# dt_params = {'max_depth':np.arange(1,10), 'min_samples_leaf':np.arange(2,30), 'criterion':['entropy','gini']}\n",
    "# rscv = RandomizedSearchCV(dt, dt_params, cv=5)\n",
    "# rscv.fit(X, y)\n",
    "# print(rscv.best_params_)\n",
    "# rscv_best_DT=rscv.best_params_\n",
    "DT=DecisionTreeClassifier(**{'min_samples_leaf': 16, 'max_depth': 8, 'criterion': 'gini'})# These hyperparameters were obtained after randomizedsearch CV\n",
    "DT.fit(X,y)\n",
    "y_test_pred_DT=DT.predict(df2)\n",
    "finalpred=pd.concat([dfte['Trip_ID'],pd.DataFrame(y_test_pred_DT,columns=['Surge_Pricing_Type'])],1)\n",
    "finalpred.to_csv(\"D:/datasets+minipro/analytics vidhya datasets/janatahack p4 ola uber/DTpred.csv\",index=False)\n",
    "# After removing scoring='roc_auc',I got the results of gscv/rscv\n",
    "# {'min_samples_leaf': 16, 'max_depth': 8, 'criterion': 'gini'}\n",
    "# On AV platform got .6811 score"
   ]
  },
  {
   "cell_type": "code",
   "execution_count": 221,
   "metadata": {},
   "outputs": [
    {
     "data": {
      "image/png": "[encoded data removed]",
      "text/plain": [
       "<Figure size 432x288 with 1 Axes>"
      ]
     },
     "metadata": {
      "needs_background": "light"
     },
     "output_type": "display_data"
    }
   ],
   "source": [
    "importances = DT.feature_importances_\n",
    "# Sort feature importances in descending order\n",
    "indices = np.argsort(importances)[::-1]\n",
    "# Rearrange feature names so they match the sorted feature importances\n",
    "names = [df.columns[i] for i in indices]  # only need to change this df\n",
    "# Create plot\n",
    "plt.figure()\n",
    "# Create plot title\n",
    "plt.title(\"Feature Importance\")\n",
    "# Add bars\n",
    "plt.bar(range(X.shape[1]), importances[indices])\n",
    "# Add feature names as x-axis labels\n",
    "plt.xticks(range(X.shape[1]), names, rotation=90)\n",
    "# Show plot\n",
    "plt.show()\n",
    "\n",
    "# the plot below shows that only  trip distance,customer rating,life+style+index are imp"
   ]
  },
  {
   "cell_type": "markdown",
   "metadata": {},
   "source": [
    "### Small testing using feature importance for DT:"
   ]
  },
  {
   "cell_type": "code",
   "execution_count": 234,
   "metadata": {},
   "outputs": [],
   "source": [
    "X=df1[['Trip_Distance','Customer_Rating','Life_Style_Index','Customer_Since_Months','Destination_Type']]\n",
    "y=df1['Surge_Pricing_Type']"
   ]
  },
  {
   "cell_type": "code",
   "execution_count": 229,
   "metadata": {},
   "outputs": [],
   "source": [
    "dftemp=df2.copy()\n",
    "dftemp=dftemp[X.columns]"
   ]
  },
  {
   "cell_type": "code",
   "execution_count": 237,
   "metadata": {},
   "outputs": [],
   "source": [
    "from sklearn.model_selection import GridSearchCV,RandomizedSearchCV\n",
    "dt = DecisionTreeClassifier()\n",
    "# dt_params = {'max_depth':np.arange(1,10), 'min_samples_leaf':np.arange(2,30), 'criterion':['entropy','gini']}\n",
    "# rscv = RandomizedSearchCV(dt, dt_params, cv=5)\n",
    "# rscv.fit(X, y)\n",
    "# print(rscv.best_params_)\n",
    "# rscv_best_DT=rscv.best_params_\n",
    "DT=DecisionTreeClassifier()# These hyperparameters were obtained after randomizedsearch CV\n",
    "DT.fit(X,y)\n",
    "y_test_pred_DT=DT.predict(dftemp)\n",
    "finalpred=pd.concat([dfte['Trip_ID'],pd.DataFrame(y_test_pred_DT,columns=['Surge_Pricing_Type'])],1)\n",
    "finalpred.to_csv(\"D:/datasets+minipro/analytics vidhya datasets/janatahack p4 ola uber/DTpred.csv\",index=False)"
   ]
  },
  {
   "cell_type": "code",
   "execution_count": 56,
   "metadata": {},
   "outputs": [
    {
     "data": {
      "image/png": "[encoded data removed]",
      "text/plain": [
       "<Figure size 1440x432 with 1 Axes>"
      ]
     },
     "metadata": {
      "needs_background": "light"
     },
     "output_type": "display_data"
    }
   ],
   "source": [
    "from sklearn.tree import plot_tree,export_text\n",
    "\n",
    "fig,axes=plt.subplots(figsize=(20,6))\n",
    "plot_tree(DT,feature_names=X.columns,max_depth=1,filled=True,ax=axes)\n",
    "plt.show()"
   ]
  },
  {
   "cell_type": "markdown",
   "metadata": {},
   "source": [
    "##### Using XGB:[For all label encoded]"
   ]
  },
  {
   "cell_type": "code",
   "execution_count": 61,
   "metadata": {},
   "outputs": [],
   "source": [
    "# XGBClassifier(base_score=0.5, booster='gbtree', colsample_bylevel=1,\n",
    "#               colsample_bynode=1, colsample_bytree=0.5, gamma=0,\n",
    "#               learning_rate=0.09, max_delta_step=0, max_depth=4,\n",
    "#               min_child_weight=4, missing=None, n_estimators=125, n_jobs=1,\n",
    "#               nthread=None, objective='multi:softprob', random_state=0,\n",
    "#               reg_alpha=1e-06, reg_lambda=1, scale_pos_weight=1, seed=None,\n",
    "#               silent=None, subsample=1, verbosity=1)\n",
    "# On AV platform got .6892 score,using XGB performance slightly improved\n",
    "\n",
    "params = {\"objective\": \"multi:softmax\",\"booster\": \"gbtree\", \"nthread\": 4, \"silent\": 1,\n",
    "                \"eta\": 0.08, \"max_depth\": 6, \"subsample\": 0.9, \"colsample_bytree\": 0.7,\n",
    "                \"min_child_weight\": 1, \"num_class\": 3,\n",
    "                \"seed\": 2016, \"tree_method\": \"exact\"}\n",
    "# approx 0.6935 on AV using above params."
   ]
  },
  {
   "cell_type": "code",
   "execution_count": 62,
   "metadata": {
    "scrolled": true
   },
   "outputs": [],
   "source": [
    "import xgboost as xgb\n",
    "from xgboost.sklearn import XGBClassifier\n",
    "# xgb=XGBClassifier(learning_rate=0.09,n_estimators=125,max_depth=4,min_child_weight=4,colsample_bytree=0.5,reg_alpha=0.000001 )\n",
    "xgb=XGBClassifier(**params)\n",
    "xgb.fit(X,y)\n",
    "\n",
    "y_test_pred_xgb=xgb.predict(df2)\n",
    "finalpred=pd.concat([dfte['Trip_ID'],pd.DataFrame(y_test_pred_xgb,columns=['Surge_Pricing_Type'])],1)\n",
    "finalpred.to_csv(\"D:/datasets+minipro/analytics vidhya datasets/janatahack p4 ola uber/xgbpred.csv\",index=False)"
   ]
  },
  {
   "cell_type": "markdown",
   "metadata": {},
   "source": [
    "##### Using Random Forest:[For all label encoded]"
   ]
  },
  {
   "cell_type": "code",
   "execution_count": 186,
   "metadata": {},
   "outputs": [
    {
     "name": "stdout",
     "output_type": "stream",
     "text": [
      "{'n_estimators': 200, 'min_samples_split': 10, 'min_samples_leaf': 3, 'max_features': 3, 'max_depth': 10, 'bootstrap': True}\n",
      "{'n_estimators': 200, 'min_samples_split': 10, 'min_samples_leaf': 3, 'max_features': 3, 'max_depth': 10, 'bootstrap': True}\n"
     ]
    }
   ],
   "source": [
    "# rf_params = {\n",
    "#     'bootstrap': [True],\n",
    "#     'max_depth': [3,10],\n",
    "#     'max_features': [2, 3],\n",
    "#     'min_samples_leaf': [3, 4, 5],\n",
    "#     'min_samples_split': [8, 10],\n",
    "#     'n_estimators': [100, 200]}\n",
    "# rf=RandomForestClassifier()\n",
    "# rscv_rf = RandomizedSearchCV(rf, rf_params, cv=3)\n",
    "# rscv_rf.fit(X, y)\n",
    "# print(rscv_rf.best_params_)\n",
    "# rscv_rf_best_rf=rscv_rf.best_params_\n",
    "\n",
    "\n",
    "\n",
    "# {'n_estimators': 200}\n",
    "# print(rscv_rf_best_rf)\n",
    "# {'n_estimators': 200, 'min_samples_split': 10, 'min_samples_leaf': 3, 'max_features': 3, 'max_depth': 10, 'bootstrap': True}"
   ]
  },
  {
   "cell_type": "code",
   "execution_count": 188,
   "metadata": {},
   "outputs": [],
   "source": [
    "# {'n_estimators': 200, 'min_samples_split': 10, 'min_samples_leaf': 3, 'max_features': 3, 'max_depth': 10, 'bootstrap': True}\n",
    "from sklearn.ensemble import RandomForestClassifier\n",
    "rf=RandomForestClassifier(**{'n_estimators': 200, 'min_samples_split': 10, 'min_samples_leaf': 3, 'max_features': 3, 'max_depth': 10, 'bootstrap': True})\n",
    "rf.fit(X,y)\n",
    "y_test_pred_rf=rf.predict(df2)\n",
    "finalpred=pd.concat([dfte['Trip_ID'],pd.DataFrame(y_test_pred_rf,columns=['Surge_Pricing_Type'])],1)\n",
    "finalpred.to_csv(\"D:/datasets+minipro/analytics vidhya datasets/janatahack p4 ola uber/rfpred.csv\",index=False)\n",
    "#.6860 av score"
   ]
  },
  {
   "cell_type": "code",
   "execution_count": 68,
   "metadata": {},
   "outputs": [
    {
     "data": {
      "text/html": [
       "<div>\n",
       "<style scoped>\n",
       "    .dataframe tbody tr th:only-of-type {\n",
       "        vertical-align: middle;\n",
       "    }\n",
       "\n",
       "    .dataframe tbody tr th {\n",
       "        vertical-align: top;\n",
       "    }\n",
       "\n",
       "    .dataframe thead th {\n",
       "        text-align: right;\n",
       "    }\n",
       "</style>\n",
       "<table border=\"1\" class=\"dataframe\">\n",
       "  <thead>\n",
       "    <tr style=\"text-align: right;\">\n",
       "      <th></th>\n",
       "      <th>names</th>\n",
       "      <th>auc_score</th>\n",
       "      <th>training</th>\n",
       "      <th>testing</th>\n",
       "    </tr>\n",
       "  </thead>\n",
       "  <tbody>\n",
       "    <tr>\n",
       "      <th>0</th>\n",
       "      <td>Random Forest</td>\n",
       "      <td>0.682831</td>\n",
       "      <td>0.999991</td>\n",
       "      <td>0.682831</td>\n",
       "    </tr>\n",
       "    <tr>\n",
       "      <th>1</th>\n",
       "      <td>Ada boost</td>\n",
       "      <td>0.681312</td>\n",
       "      <td>0.682775</td>\n",
       "      <td>0.681312</td>\n",
       "    </tr>\n",
       "    <tr>\n",
       "      <th>2</th>\n",
       "      <td>Bagging</td>\n",
       "      <td>0.645730</td>\n",
       "      <td>0.982616</td>\n",
       "      <td>0.645730</td>\n",
       "    </tr>\n",
       "    <tr>\n",
       "      <th>3</th>\n",
       "      <td>Naive-Bayes</td>\n",
       "      <td>0.643755</td>\n",
       "      <td>0.646536</td>\n",
       "      <td>0.643755</td>\n",
       "    </tr>\n",
       "    <tr>\n",
       "      <th>4</th>\n",
       "      <td>Logistic Regression</td>\n",
       "      <td>0.641628</td>\n",
       "      <td>0.642615</td>\n",
       "      <td>0.641628</td>\n",
       "    </tr>\n",
       "    <tr>\n",
       "      <th>5</th>\n",
       "      <td>bagged LR</td>\n",
       "      <td>0.639198</td>\n",
       "      <td>0.640185</td>\n",
       "      <td>0.639198</td>\n",
       "    </tr>\n",
       "    <tr>\n",
       "      <th>6</th>\n",
       "      <td>Decistion Tree</td>\n",
       "      <td>0.557134</td>\n",
       "      <td>1.000000</td>\n",
       "      <td>0.557134</td>\n",
       "    </tr>\n",
       "    <tr>\n",
       "      <th>7</th>\n",
       "      <td>KNN</td>\n",
       "      <td>0.489272</td>\n",
       "      <td>0.664584</td>\n",
       "      <td>0.489272</td>\n",
       "    </tr>\n",
       "  </tbody>\n",
       "</table>\n",
       "</div>"
      ],
      "text/plain": [
       "                 names  auc_score  training   testing\n",
       "0        Random Forest   0.682831  0.999991  0.682831\n",
       "1            Ada boost   0.681312  0.682775  0.681312\n",
       "2              Bagging   0.645730  0.982616  0.645730\n",
       "3          Naive-Bayes   0.643755  0.646536  0.643755\n",
       "4  Logistic Regression   0.641628  0.642615  0.641628\n",
       "5            bagged LR   0.639198  0.640185  0.639198\n",
       "6       Decistion Tree   0.557134  1.000000  0.557134\n",
       "7                  KNN   0.489272  0.664584  0.489272"
      ]
     },
     "execution_count": 68,
     "metadata": {},
     "output_type": "execute_result"
    }
   ],
   "source": [
    "#set seed for same results everytime\n",
    "seed=0\n",
    "import sklearn.ensemble as ensemble\n",
    "import sklearn.metrics as metrics\n",
    "\n",
    "X=df1.drop('Surge_Pricing_Type',1)\n",
    "y=df1['Surge_Pricing_Type']\n",
    "X_train, X_test, y_train, y_test = train_test_split(X,y, test_size = 0.2, random_state =1)\n",
    "\n",
    "#declare the models\n",
    "lr = LogisticRegression()\n",
    "rf=RandomForestClassifier()\n",
    "adb=ensemble.AdaBoostClassifier()\n",
    "bgc=ensemble.BaggingClassifier()\n",
    "gnb = GaussianNB()\n",
    "knn=KNeighborsClassifier()\n",
    "dt = DecisionTreeClassifier()\n",
    "# ab_rf = AdaBoostClassifier(base_estimator=rf,random_state=0)\n",
    "# ab_dt = AdaBoostClassifier(base_estimator=dt,random_state=0)\n",
    "# ab_nb=  AdaBoostClassifier(base_estimator=gnb,random_state=0)\n",
    "# ab_lr=  AdaBoostClassifier(base_estimator=lr,random_state=0)\n",
    "bgcl_lr = BaggingClassifier(base_estimator=lr, random_state=0)\n",
    "\n",
    "models=[lr,rf,adb,bgc,gnb,knn,dt,bgcl_lr]\n",
    "sctr,scte,auc,ps,rs=[],[],[],[],[]\n",
    "def ens(X_train,X_test, y_train, y_test):\n",
    "    for model in models:\n",
    "            model.fit(X_train, y_train)\n",
    "            y_test_pred = model.predict(X_test)\n",
    "            train_score=model.score(X_train,y_train)\n",
    "            test_score=model.score(X_test,y_test)\n",
    "            sctr.append(train_score)\n",
    "            scte.append(test_score)\n",
    "    return sctr,scte\n",
    "ens(X_train,X_test, y_train, y_test)\n",
    "# 'ab_rf','ab_dt','ab_nb','ab_lr','bgcl_lr'\n",
    "ensemble=pd.DataFrame({'names':['Logistic Regression','Random Forest','Ada boost','Bagging',\n",
    "                                'Naive-Bayes','KNN','Decistion Tree',\n",
    "                                'bagged LR'],\n",
    "                       'training':sctr,'testing':scte})\n",
    "ensemble=ensemble.sort_values(by='acc_score',ascending=False).reset_index(drop=True)\n",
    "ensemble"
   ]
  },
  {
   "cell_type": "markdown",
   "metadata": {},
   "source": [
    "#### All get_dummies:"
   ]
  },
  {
   "cell_type": "code",
   "execution_count": 167,
   "metadata": {},
   "outputs": [],
   "source": [
    "df3=df.copy()"
   ]
  },
  {
   "cell_type": "code",
   "execution_count": 168,
   "metadata": {},
   "outputs": [],
   "source": [
    "from sklearn.impute import SimpleImputer\n",
    "si=SimpleImputer(missing_values=np.nan, strategy='median')\n",
    "sicate=SimpleImputer(missing_values=np.nan, strategy='most_frequent')\n",
    "for i in df3.select_dtypes(include='object'):\n",
    "    if df3[i].isnull().sum()>0:\n",
    "        df3[i]=sicate.fit_transform(np.array(df3[i]).reshape(-1,1))\n",
    "for i in df3.select_dtypes(exclude='object'):\n",
    "    if df3[i].isnull().sum()>0:\n",
    "        df3[i]=si.fit_transform(np.array(df3[i]).reshape(-1,1))\n",
    "df3.drop('Trip_ID',1,inplace=True)"
   ]
  },
  {
   "cell_type": "code",
   "execution_count": 169,
   "metadata": {},
   "outputs": [],
   "source": [
    "for i in df3.select_dtypes(include='object'):\n",
    "    df3=pd.concat([df3,pd.get_dummies(df3[i],prefix=i,drop_first=True)],1)\n",
    "    del df3[i]"
   ]
  },
  {
   "cell_type": "markdown",
   "metadata": {},
   "source": [
    "##### Manipulating test data:"
   ]
  },
  {
   "cell_type": "code",
   "execution_count": 173,
   "metadata": {},
   "outputs": [],
   "source": [
    "df4=dfte.copy()"
   ]
  },
  {
   "cell_type": "code",
   "execution_count": 174,
   "metadata": {},
   "outputs": [],
   "source": [
    "from sklearn.impute import SimpleImputer\n",
    "si=SimpleImputer(missing_values=np.nan, strategy='median')\n",
    "sicate=SimpleImputer(missing_values=np.nan, strategy='most_frequent')\n",
    "for i in df4.select_dtypes(include='object'):\n",
    "    if df4[i].isnull().sum()>0:\n",
    "        df4[i]=sicate.fit_transform(np.array(df4[i]).reshape(-1,1))\n",
    "for i in df4.select_dtypes(exclude='object'):\n",
    "    if df4[i].isnull().sum()>0:\n",
    "        df4[i]=si.fit_transform(np.array(df4[i]).reshape(-1,1))\n",
    "df4.drop('Trip_ID',1,inplace=True)\n",
    "for i in df4.select_dtypes(include='object'):\n",
    "    df4=pd.concat([df4,pd.get_dummies(df4[i],prefix=i,drop_first=True)],1)\n",
    "    del df4[i]"
   ]
  },
  {
   "cell_type": "code",
   "execution_count": 177,
   "metadata": {},
   "outputs": [],
   "source": [
    "X=df3.drop('Surge_Pricing_Type',1)\n",
    "y=df3['Surge_Pricing_Type']\n",
    "X_train, X_test, y_train, y_test = train_test_split(X,y, test_size = 0.2, random_state =0)"
   ]
  },
  {
   "cell_type": "code",
   "execution_count": 180,
   "metadata": {},
   "outputs": [],
   "source": [
    "params = {\"objective\": \"multi:softmax\",\"booster\": \"gbtree\", \"nthread\": 4, \"silent\": 1,\n",
    "                \"eta\": 0.08, \"max_depth\": 6, \"subsample\": 0.9, \"colsample_bytree\": 0.7,\n",
    "                \"min_child_weight\": 1, \"num_class\": 3,\n",
    "                \"seed\": 2016, \"tree_method\": \"exact\"}\n",
    "import xgboost as xgb\n",
    "from xgboost.sklearn import XGBClassifier\n",
    "xgb=XGBClassifier()\n",
    "xgb.fit(X,y)\n",
    "y_test_pred_xgb=xgb.predict(df4)\n",
    "finalpred=pd.concat([dfte['Trip_ID'],pd.DataFrame(y_test_pred_xgb,columns=['Surge_Pricing_Type'])],1)\n",
    "finalpred.to_csv(\"D:/datasets+minipro/analytics vidhya datasets/janatahack p4 ola uber/xgbpredgetdumm.csv\",index=False)\n",
    "\n",
    "### 0.6929 accuracy score."
   ]
  },
  {
   "cell_type": "code",
   "execution_count": 184,
   "metadata": {},
   "outputs": [
    {
     "data": {
      "text/html": [
       "<div>\n",
       "<style scoped>\n",
       "    .dataframe tbody tr th:only-of-type {\n",
       "        vertical-align: middle;\n",
       "    }\n",
       "\n",
       "    .dataframe tbody tr th {\n",
       "        vertical-align: top;\n",
       "    }\n",
       "\n",
       "    .dataframe thead th {\n",
       "        text-align: right;\n",
       "    }\n",
       "</style>\n",
       "<table border=\"1\" class=\"dataframe\">\n",
       "  <thead>\n",
       "    <tr style=\"text-align: right;\">\n",
       "      <th></th>\n",
       "      <th>names</th>\n",
       "      <th>training</th>\n",
       "      <th>testing</th>\n",
       "    </tr>\n",
       "  </thead>\n",
       "  <tbody>\n",
       "    <tr>\n",
       "      <th>0</th>\n",
       "      <td>Random Forest</td>\n",
       "      <td>1.000000</td>\n",
       "      <td>0.684616</td>\n",
       "    </tr>\n",
       "    <tr>\n",
       "      <th>1</th>\n",
       "      <td>Ada boost</td>\n",
       "      <td>0.679813</td>\n",
       "      <td>0.680895</td>\n",
       "    </tr>\n",
       "    <tr>\n",
       "      <th>2</th>\n",
       "      <td>Bagging</td>\n",
       "      <td>0.982854</td>\n",
       "      <td>0.650856</td>\n",
       "    </tr>\n",
       "    <tr>\n",
       "      <th>3</th>\n",
       "      <td>bagged LR</td>\n",
       "      <td>0.648179</td>\n",
       "      <td>0.647590</td>\n",
       "    </tr>\n",
       "    <tr>\n",
       "      <th>4</th>\n",
       "      <td>Logistic Regression</td>\n",
       "      <td>0.648672</td>\n",
       "      <td>0.647135</td>\n",
       "    </tr>\n",
       "    <tr>\n",
       "      <th>5</th>\n",
       "      <td>Naive-Bayes</td>\n",
       "      <td>0.618681</td>\n",
       "      <td>0.614552</td>\n",
       "    </tr>\n",
       "    <tr>\n",
       "      <th>6</th>\n",
       "      <td>Decistion Tree</td>\n",
       "      <td>1.000000</td>\n",
       "      <td>0.561691</td>\n",
       "    </tr>\n",
       "    <tr>\n",
       "      <th>7</th>\n",
       "      <td>KNN</td>\n",
       "      <td>0.631763</td>\n",
       "      <td>0.438841</td>\n",
       "    </tr>\n",
       "  </tbody>\n",
       "</table>\n",
       "</div>"
      ],
      "text/plain": [
       "                 names  training   testing\n",
       "0        Random Forest  1.000000  0.684616\n",
       "1            Ada boost  0.679813  0.680895\n",
       "2              Bagging  0.982854  0.650856\n",
       "3            bagged LR  0.648179  0.647590\n",
       "4  Logistic Regression  0.648672  0.647135\n",
       "5          Naive-Bayes  0.618681  0.614552\n",
       "6       Decistion Tree  1.000000  0.561691\n",
       "7                  KNN  0.631763  0.438841"
      ]
     },
     "execution_count": 184,
     "metadata": {},
     "output_type": "execute_result"
    }
   ],
   "source": [
    "#set seed for same results everytime\n",
    "seed=0\n",
    "import sklearn.ensemble as ensemble\n",
    "import sklearn.metrics as metrics\n",
    "\n",
    "X=df3.drop('Surge_Pricing_Type',1)\n",
    "y=df3['Surge_Pricing_Type']\n",
    "X_train, X_test, y_train, y_test = train_test_split(X,y, test_size = 0.2, random_state =0)\n",
    "\n",
    "#declare the models\n",
    "lr = LogisticRegression()\n",
    "rf=RandomForestClassifier()\n",
    "adb=ensemble.AdaBoostClassifier()\n",
    "bgc=ensemble.BaggingClassifier()\n",
    "gnb = GaussianNB()\n",
    "knn=KNeighborsClassifier()\n",
    "dt = DecisionTreeClassifier()\n",
    "# ab_rf = AdaBoostClassifier(base_estimator=rf,random_state=0)\n",
    "# ab_dt = AdaBoostClassifier(base_estimator=dt,random_state=0)\n",
    "# ab_nb=  AdaBoostClassifier(base_estimator=gnb,random_state=0)\n",
    "# ab_lr=  AdaBoostClassifier(base_estimator=lr,random_state=0)\n",
    "bgcl_lr = BaggingClassifier(base_estimator=lr, random_state=0)\n",
    "\n",
    "models=[lr,rf,adb,bgc,gnb,knn,dt,bgcl_lr]\n",
    "sctr,scte,auc,ps,rs=[],[],[],[],[]\n",
    "def ens(X_train,X_test, y_train, y_test):\n",
    "    for model in models:\n",
    "            model.fit(X_train, y_train)\n",
    "            y_test_pred = model.predict(X_test)\n",
    "            train_score=model.score(X_train,y_train)\n",
    "            test_score=model.score(X_test,y_test)\n",
    "            sctr.append(train_score)\n",
    "            scte.append(test_score)\n",
    "    return sctr,scte\n",
    "ens(X_train,X_test, y_train, y_test)\n",
    "# 'ab_rf','ab_dt','ab_nb','ab_lr','bgcl_lr'\n",
    "ensemble=pd.DataFrame({'names':['Logistic Regression','Random Forest','Ada boost','Bagging',\n",
    "                                'Naive-Bayes','KNN','Decistion Tree',\n",
    "                                'bagged LR'],\n",
    "                       'training':sctr,'testing':scte})\n",
    "ensemble=ensemble.sort_values(by='testing',ascending=False).reset_index(drop=True)\n",
    "ensemble"
   ]
  },
  {
   "cell_type": "code",
   "execution_count": 238,
   "metadata": {},
   "outputs": [
    {
     "data": {
      "text/html": [
       "<div>\n",
       "<style scoped>\n",
       "    .dataframe tbody tr th:only-of-type {\n",
       "        vertical-align: middle;\n",
       "    }\n",
       "\n",
       "    .dataframe tbody tr th {\n",
       "        vertical-align: top;\n",
       "    }\n",
       "\n",
       "    .dataframe thead th {\n",
       "        text-align: right;\n",
       "    }\n",
       "</style>\n",
       "<table border=\"1\" class=\"dataframe\">\n",
       "  <thead>\n",
       "    <tr style=\"text-align: right;\">\n",
       "      <th></th>\n",
       "      <th>Trip_ID</th>\n",
       "      <th>Trip_Distance</th>\n",
       "      <th>Type_of_Cab</th>\n",
       "      <th>Customer_Since_Months</th>\n",
       "      <th>Life_Style_Index</th>\n",
       "      <th>Confidence_Life_Style_Index</th>\n",
       "      <th>Destination_Type</th>\n",
       "      <th>Customer_Rating</th>\n",
       "      <th>Cancellation_Last_1Month</th>\n",
       "      <th>Var1</th>\n",
       "      <th>Var2</th>\n",
       "      <th>Var3</th>\n",
       "      <th>Gender</th>\n",
       "      <th>Surge_Pricing_Type</th>\n",
       "    </tr>\n",
       "  </thead>\n",
       "  <tbody>\n",
       "    <tr>\n",
       "      <th>0</th>\n",
       "      <td>T0005689460</td>\n",
       "      <td>6.77</td>\n",
       "      <td>B</td>\n",
       "      <td>1.0</td>\n",
       "      <td>2.42769</td>\n",
       "      <td>A</td>\n",
       "      <td>A</td>\n",
       "      <td>3.90500</td>\n",
       "      <td>0</td>\n",
       "      <td>40.0</td>\n",
       "      <td>46</td>\n",
       "      <td>60</td>\n",
       "      <td>Female</td>\n",
       "      <td>2</td>\n",
       "    </tr>\n",
       "    <tr>\n",
       "      <th>1</th>\n",
       "      <td>T0005689461</td>\n",
       "      <td>29.47</td>\n",
       "      <td>B</td>\n",
       "      <td>10.0</td>\n",
       "      <td>2.78245</td>\n",
       "      <td>B</td>\n",
       "      <td>A</td>\n",
       "      <td>3.45000</td>\n",
       "      <td>0</td>\n",
       "      <td>38.0</td>\n",
       "      <td>56</td>\n",
       "      <td>78</td>\n",
       "      <td>Male</td>\n",
       "      <td>2</td>\n",
       "    </tr>\n",
       "    <tr>\n",
       "      <th>2</th>\n",
       "      <td>T0005689464</td>\n",
       "      <td>41.58</td>\n",
       "      <td>NaN</td>\n",
       "      <td>10.0</td>\n",
       "      <td>NaN</td>\n",
       "      <td>NaN</td>\n",
       "      <td>E</td>\n",
       "      <td>3.50125</td>\n",
       "      <td>2</td>\n",
       "      <td>NaN</td>\n",
       "      <td>56</td>\n",
       "      <td>77</td>\n",
       "      <td>Male</td>\n",
       "      <td>2</td>\n",
       "    </tr>\n",
       "    <tr>\n",
       "      <th>3</th>\n",
       "      <td>T0005689465</td>\n",
       "      <td>61.56</td>\n",
       "      <td>C</td>\n",
       "      <td>10.0</td>\n",
       "      <td>NaN</td>\n",
       "      <td>NaN</td>\n",
       "      <td>A</td>\n",
       "      <td>3.45375</td>\n",
       "      <td>0</td>\n",
       "      <td>NaN</td>\n",
       "      <td>52</td>\n",
       "      <td>74</td>\n",
       "      <td>Male</td>\n",
       "      <td>3</td>\n",
       "    </tr>\n",
       "    <tr>\n",
       "      <th>4</th>\n",
       "      <td>T0005689467</td>\n",
       "      <td>54.95</td>\n",
       "      <td>C</td>\n",
       "      <td>10.0</td>\n",
       "      <td>3.03453</td>\n",
       "      <td>B</td>\n",
       "      <td>A</td>\n",
       "      <td>3.40250</td>\n",
       "      <td>4</td>\n",
       "      <td>51.0</td>\n",
       "      <td>49</td>\n",
       "      <td>102</td>\n",
       "      <td>Male</td>\n",
       "      <td>2</td>\n",
       "    </tr>\n",
       "  </tbody>\n",
       "</table>\n",
       "</div>"
      ],
      "text/plain": [
       "       Trip_ID  Trip_Distance Type_of_Cab  Customer_Since_Months  \\\n",
       "0  T0005689460           6.77           B                    1.0   \n",
       "1  T0005689461          29.47           B                   10.0   \n",
       "2  T0005689464          41.58         NaN                   10.0   \n",
       "3  T0005689465          61.56           C                   10.0   \n",
       "4  T0005689467          54.95           C                   10.0   \n",
       "\n",
       "   Life_Style_Index Confidence_Life_Style_Index Destination_Type  \\\n",
       "0           2.42769                           A                A   \n",
       "1           2.78245                           B                A   \n",
       "2               NaN                         NaN                E   \n",
       "3               NaN                         NaN                A   \n",
       "4           3.03453                           B                A   \n",
       "\n",
       "   Customer_Rating  Cancellation_Last_1Month  Var1  Var2  Var3  Gender  \\\n",
       "0          3.90500                         0  40.0    46    60  Female   \n",
       "1          3.45000                         0  38.0    56    78    Male   \n",
       "2          3.50125                         2   NaN    56    77    Male   \n",
       "3          3.45375                         0   NaN    52    74    Male   \n",
       "4          3.40250                         4  51.0    49   102    Male   \n",
       "\n",
       "   Surge_Pricing_Type  \n",
       "0                   2  \n",
       "1                   2  \n",
       "2                   2  \n",
       "3                   3  \n",
       "4                   2  "
      ]
     },
     "execution_count": 238,
     "metadata": {},
     "output_type": "execute_result"
    }
   ],
   "source": [
    "df.head()"
   ]
  },
  {
   "cell_type": "code",
   "execution_count": null,
   "metadata": {},
   "outputs": [],
   "source": []
  }
 ],
 "metadata": {
  "kernelspec": {
   "display_name": "Python 3",
   "language": "python",
   "name": "python3"
  },
  "language_info": {
   "codemirror_mode": {
    "name": "ipython",
    "version": 3
   },
   "file_extension": ".py",
   "mimetype": "text/x-python",
   "name": "python",
   "nbconvert_exporter": "python",
   "pygments_lexer": "ipython3",
   "version": "3.6.4"
  }
 },
 "nbformat": 4,
 "nbformat_minor": 2
}
